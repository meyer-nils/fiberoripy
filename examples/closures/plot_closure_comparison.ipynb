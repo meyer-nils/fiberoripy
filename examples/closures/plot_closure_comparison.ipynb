{
 "cells": [
  {
   "cell_type": "markdown",
   "metadata": {},
   "source": [
    "# Plotting fiber orientation tensors and closure."
   ]
  },
  {
   "cell_type": "code",
   "execution_count": null,
   "metadata": {},
   "outputs": [],
   "source": [
    "%matplotlib widget\n",
    "import matplotlib.pyplot as plt\n",
    "import numpy as np\n",
    "from mpl_toolkits.mplot3d import Axes3D\n",
    "\n",
    "from fiberoripy.closures import (\n",
    "    IBOF_closure,\n",
    "    get_random_tensor_pair,\n",
    "    hybrid_closure,\n",
    "    linear_closure,\n",
    "    quadratic_closure,\n",
    ")\n",
    "from fiberoripy.tensorplot import (\n",
    "    plot_orbit2,\n",
    "    plot_orbit4,\n",
    "    plot_projection2,\n",
    "    plot_projection4,\n",
    ")"
   ]
  },
  {
   "cell_type": "code",
   "execution_count": null,
   "metadata": {},
   "outputs": [],
   "source": [
    "# create a fourth order fiber orientation tensor\n",
    "a, A = get_random_tensor_pair(seed=1.0 / 3.0 * np.eye(3), N=100)\n",
    "\n",
    "# compute a couple of closures\n",
    "A_hybrid = hybrid_closure(a)\n",
    "A_ibof = IBOF_closure(a)\n",
    "A_lin = linear_closure(a)\n",
    "A_quad = quadratic_closure(a)"
   ]
  },
  {
   "cell_type": "code",
   "execution_count": null,
   "metadata": {},
   "outputs": [],
   "source": [
    "# Second order tensor plot\n",
    "fig = plt.figure(figsize=(12, 8))\n",
    "\n",
    "ax = fig.add_subplot(221, projection=Axes3D.name)\n",
    "plotargs = {\"rstride\": 4, \"cstride\": 4}\n",
    "plot_orbit2(ax, plotargs, a)\n",
    "\n",
    "ax = fig.add_subplot(222)\n",
    "plot_projection2(ax, \"xy\", a)\n",
    "\n",
    "ax = fig.add_subplot(223)\n",
    "plot_projection2(ax, \"xz\", a)\n",
    "\n",
    "ax = fig.add_subplot(224)\n",
    "plot_projection2(ax, \"yz\", a)\n",
    "\n",
    "plt.show()"
   ]
  },
  {
   "cell_type": "code",
   "execution_count": null,
   "metadata": {},
   "outputs": [],
   "source": [
    "# Fourth order tensor plot\n",
    "fig = plt.figure(figsize=(12, 8))\n",
    "\n",
    "ax = fig.add_subplot(221, projection=Axes3D.name)\n",
    "plotargs = {\"alpha\": 0.1, \"rstride\": 4, \"cstride\": 4}\n",
    "plot_orbit4(ax, plotargs, A, A_hybrid, A_lin, A_quad, A_ibof)\n",
    "\n",
    "ax = fig.add_subplot(222)\n",
    "plot_projection4(ax, \"xy\", A, A_hybrid, A_lin, A_quad, A_ibof)\n",
    "\n",
    "ax = fig.add_subplot(223)\n",
    "plot_projection4(ax, \"xz\", A, A_hybrid, A_lin, A_quad, A_ibof)\n",
    "\n",
    "ax = fig.add_subplot(224)\n",
    "plot_projection4(ax, \"yz\", A, A_hybrid, A_lin, A_quad, A_ibof)\n",
    "\n",
    "plt.legend([\"Original\", \"Hybrid\", \"Linear\", \"Quadratic\", \"IBOF\"])\n",
    "\n",
    "plt.show()"
   ]
  }
 ],
 "metadata": {
  "kernelspec": {
   "display_name": "base",
   "language": "python",
   "name": "python3"
  },
  "language_info": {
   "codemirror_mode": {
    "name": "ipython",
    "version": 3
   },
   "file_extension": ".py",
   "mimetype": "text/x-python",
   "name": "python",
   "nbconvert_exporter": "python",
   "pygments_lexer": "ipython3",
   "version": "3.10.6"
  }
 },
 "nbformat": 4,
 "nbformat_minor": 4
}
