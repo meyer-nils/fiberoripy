{
 "cells": [
  {
   "cell_type": "markdown",
   "metadata": {},
   "source": [
    "# Plotting fiber orientation tensors and closure."
   ]
  },
  {
   "cell_type": "code",
   "execution_count": null,
   "metadata": {},
   "outputs": [],
   "source": [
    "%matplotlib widget\n",
    "import matplotlib.pyplot as plt\n",
    "import numpy as np\n",
    "from mpl_toolkits.mplot3d import Axes3D\n",
    "\n",
    "from fiberoripy.closures import get_random_tensor_pair\n",
    "\n",
    "from fiberoripy.tensorplot import plot_orbit2, plot_orbit4\n"
   ]
  },
  {
   "cell_type": "code",
   "execution_count": null,
   "metadata": {},
   "outputs": [],
   "source": [
    "# define second order fiber orientation tensor\n",
    "a_iso = 1.0 / 3.0 * np.eye(3)\n",
    "a_uni = np.array([[0.9, 0, 0], [0, 0.05, 0], [0, 0, 0.05]])\n",
    "a_pln = np.array([[0.4, 0, 0], [0, 0.4, 0], [0, 0, 0.1]])\n",
    "\n",
    "# create a fourth order fiber orientation tensor\n",
    "_, A_iso = get_random_tensor_pair(seed=a_iso, N=5000)\n",
    "_, A_uni = get_random_tensor_pair(seed=a_uni, N=5000)\n",
    "_, A_pln = get_random_tensor_pair(seed=a_pln, N=5000)"
   ]
  },
  {
   "cell_type": "code",
   "execution_count": null,
   "metadata": {},
   "outputs": [],
   "source": [
    "# Second order tensor plot (isotropic)\n",
    "fig = plt.figure(figsize=(12, 8))\n",
    "\n",
    "ax = fig.add_subplot(111, projection=Axes3D.name)\n",
    "ax._axis3don = False\n",
    "plotargs = {\"color\": [0, 0.588, 0.510], \"rstride\": 1, \"cstride\": 1}\n",
    "plot_orbit2(ax, plotargs, a_iso)\n",
    "\n",
    "plt.show()"
   ]
  },
  {
   "cell_type": "code",
   "execution_count": null,
   "metadata": {},
   "outputs": [],
   "source": [
    "# Second order tensor plot (unidirectional)\n",
    "fig = plt.figure(figsize=(12, 8))\n",
    "\n",
    "ax = fig.add_subplot(111, projection=Axes3D.name)\n",
    "ax._axis3don = False\n",
    "plotargs = {\"color\": [0, 0.588, 0.510], \"rstride\": 1, \"cstride\": 1}\n",
    "plot_orbit2(ax, plotargs, a_uni)\n",
    "\n",
    "plt.show()"
   ]
  },
  {
   "cell_type": "code",
   "execution_count": null,
   "metadata": {},
   "outputs": [],
   "source": [
    "# Second order tensor plot (planar)\n",
    "fig = plt.figure(figsize=(12, 8))\n",
    "\n",
    "ax = fig.add_subplot(111, projection=Axes3D.name)\n",
    "ax._axis3don = False\n",
    "plotargs = {\"color\": [0, 0.588, 0.510], \"rstride\": 4, \"cstride\": 4}\n",
    "plot_orbit2(ax, plotargs, a_pln)\n",
    "\n",
    "plt.show()"
   ]
  },
  {
   "cell_type": "code",
   "execution_count": null,
   "metadata": {},
   "outputs": [],
   "source": [
    "# Fourth order tensor plot\n",
    "fig = plt.figure(figsize=(12, 8))\n",
    "\n",
    "ax = fig.add_subplot(111, projection=Axes3D.name)\n",
    "plotargs = {\"color\": [0, 0.588, 0.510], \"rstride\": 1, \"cstride\": 1}\n",
    "plot_orbit4(ax, plotargs, A_iso)\n",
    "\n",
    "plt.show()"
   ]
  }
 ],
 "metadata": {
  "kernelspec": {
   "display_name": "base",
   "language": "python",
   "name": "python3"
  },
  "language_info": {
   "codemirror_mode": {
    "name": "ipython",
    "version": 3
   },
   "file_extension": ".py",
   "mimetype": "text/x-python",
   "name": "python",
   "nbconvert_exporter": "python",
   "pygments_lexer": "ipython3",
   "version": "3.10.6"
  }
 },
 "nbformat": 4,
 "nbformat_minor": 4
}
