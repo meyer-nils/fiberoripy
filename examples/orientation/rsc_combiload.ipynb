{
 "cells": [
  {
   "cell_type": "markdown",
   "metadata": {},
   "source": [
    "# Testing re-orientation in shearflow + elongation.\n",
    "\n",
    "The result should match Figure 5 in\n",
    "Wang, Jin, O’Gara, John F., Tucker, Charles L: \"An objective model for slow\n",
    "orientation kinetics in concentrated fiber suspensions: Theory and rheological\n",
    "evidence\", Journal of Rheology, 52, 1179, 2008: DOI: 10.1122/1.2946437."
   ]
  },
  {
   "cell_type": "code",
   "execution_count": null,
   "metadata": {},
   "outputs": [],
   "source": [
    "import matplotlib.pyplot as plt\n",
    "import numpy as np\n",
    "from scipy.integrate import solve_ivp\n",
    "\n",
    "from fiberoripy.closures import IBOF_closure\n",
    "from fiberoripy.orientation import rsc_ode, integrate_ori_ode"
   ]
  },
  {
   "cell_type": "code",
   "execution_count": null,
   "metadata": {},
   "outputs": [],
   "source": [
    "# geometric factor\n",
    "xi = 1.0\n",
    "\n",
    "# time steps\n",
    "t0, tf = 0, 400\n",
    "t = np.linspace(t0, tf, 500)\n",
    "\n",
    "# initial fiber orientation state\n",
    "A0 = 1.0 / 3.0 * np.eye(3)"
   ]
  },
  {
   "cell_type": "code",
   "execution_count": null,
   "metadata": {},
   "outputs": [],
   "source": [
    "fig, axes = plt.subplots(3, 1, figsize=(4, 6))\n",
    "\n",
    "for ax, ratio in zip(axes, [0.1, 0.12, 0.2]):\n",
    "\n",
    "    def L(t):\n",
    "        \"\"\"Velocity gradient.\"\"\"\n",
    "        return np.array([[-ratio, 0.0, 1.0], [0.0, ratio, 0.0], [0.0, 0.0, 0.0]])\n",
    "\n",
    "    # computed solution\n",
    "    sol = solve_ivp(\n",
    "        integrate_ori_ode,\n",
    "        (t0, tf),\n",
    "        A0.ravel(),\n",
    "        t_eval=t,\n",
    "        args=(L, IBOF_closure, rsc_ode, {\"xi\": 1.0, \"Ci\": 0.01, \"kappa\": 0.1}),\n",
    "    )\n",
    "\n",
    "    ax.plot(sol.t, sol.y[0], label=\"A11\")\n",
    "    ax.plot(sol.t, sol.y[4], label=\"A22\")\n",
    "    ax.plot(sol.t, sol.y[2], label=\"A13\")\n",
    "\n",
    "    ax.set_xlabel(\"Time $t$ in s\")\n",
    "    ax.set_ylim([0, 1])\n",
    "    ax.grid()\n",
    "    ax.legend()\n",
    "plt.tight_layout()\n",
    "plt.show()"
   ]
  }
 ],
 "metadata": {
  "kernelspec": {
   "display_name": "base",
   "language": "python",
   "name": "python3"
  },
  "language_info": {
   "codemirror_mode": {
    "name": "ipython",
    "version": 3
   },
   "file_extension": ".py",
   "mimetype": "text/x-python",
   "name": "python",
   "nbconvert_exporter": "python",
   "pygments_lexer": "ipython3",
   "version": "3.10.6"
  }
 },
 "nbformat": 4,
 "nbformat_minor": 4
}
