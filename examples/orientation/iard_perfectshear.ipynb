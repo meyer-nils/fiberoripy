{
 "cells": [
  {
   "cell_type": "markdown",
   "metadata": {},
   "source": [
    "# Testing re-orientation in shearflow\n",
    "\n",
    "The result should match Figure 1 in\n",
    "Huan-Chang Tseng, Rong-Yeu Chang, Chia-Hsiang Hsu: \"An objective tensor to predict\n",
    "anisotropic fiber orientation in concentrated suspensions\",\n",
    "Journal of Rheology 60, 215 (2016):\n",
    "DOI: 10.1122/1.4939098"
   ]
  },
  {
   "cell_type": "code",
   "execution_count": null,
   "metadata": {},
   "outputs": [],
   "source": [
    "import matplotlib.pyplot as plt\n",
    "import numpy as np\n",
    "from scipy.integrate import solve_ivp\n",
    "\n",
    "from fiberoripy.closures import IBOF_closure\n",
    "from fiberoripy.orientation import ard_rsc_ode, iardrpr_ode, integrate_ori_ode"
   ]
  },
  {
   "cell_type": "code",
   "execution_count": null,
   "metadata": {},
   "outputs": [],
   "source": [
    "# geometric factor\n",
    "xi = 1.0\n",
    "\n",
    "# time steps\n",
    "t0, tf = 0, 2000\n",
    "t = np.linspace(t0, tf, 100)\n",
    "\n",
    "# initial fiber orientation state\n",
    "A0 = 1.0 / 3.0 * np.eye(3)"
   ]
  },
  {
   "cell_type": "code",
   "execution_count": null,
   "metadata": {},
   "outputs": [],
   "source": [
    "# define a function that describes the (time-dependend) velocity gradient\n",
    "def L(t):\n",
    "    \"\"\"Velocity gradient.\"\"\"\n",
    "    return np.array([[0.0, 0.0, 1.0], [0.0, 0.0, 0.0], [0.0, 0.0, 0.0]])"
   ]
  },
  {
   "cell_type": "code",
   "execution_count": null,
   "metadata": {},
   "outputs": [],
   "source": [
    "# compute solutions by integrating the ODEs\n",
    "kwargs_ref = {\n",
    "    \"xi\": xi,\n",
    "    \"b1\": 3.842e-4,\n",
    "    \"kappa\": 1.0 / 30.0,\n",
    "    \"b2\": -1.786e-3,\n",
    "    \"b3\": 5.25e-2,\n",
    "    \"b4\": 1.168e-5,\n",
    "    \"b5\": -5.0e-4,\n",
    "}\n",
    "sol_ref = solve_ivp(\n",
    "    integrate_ori_ode,\n",
    "    (t0, tf),\n",
    "    A0.ravel(),\n",
    "    t_eval=t,\n",
    "    args=(L, IBOF_closure, ard_rsc_ode, kwargs_ref),\n",
    ")\n",
    "\n",
    "kwargs = {\"xi\": xi, \"Ci\": 0.025, \"Cm\": 1.0, \"alpha\": 0.967}\n",
    "sol = solve_ivp(\n",
    "    integrate_ori_ode,\n",
    "    (t0, tf),\n",
    "    A0.ravel(),\n",
    "    t_eval=t,\n",
    "    args=(L, IBOF_closure, iardrpr_ode, kwargs),\n",
    ")"
   ]
  },
  {
   "cell_type": "code",
   "execution_count": null,
   "metadata": {},
   "outputs": [],
   "source": [
    "# plot components\n",
    "plt.plot(sol_ref.t, sol_ref.y[0], \"k-\", label=\"A11 (ARD-RSC)\")\n",
    "plt.plot(sol_ref.t, sol_ref.y[4], \"r-\", label=\"A22 (ARD-RSC)\")\n",
    "plt.plot(sol_ref.t, sol_ref.y[8], \"b-\", label=\"A33 (ARD-RSC)\")\n",
    "plt.plot(sol_ref.t, sol_ref.y[2], \"g-\", label=\"A31 (ARD-RSC)\")\n",
    "plt.plot(sol.t, sol.y[0], \"k.\", label=\"A11 (iARD-RPR)\")\n",
    "plt.plot(sol.t, sol.y[4], \"r.\", label=\"A22 (iARD-RPR)\")\n",
    "plt.plot(sol.t, sol.y[8], \"b.\", label=\"A33 (iARD-RPR)\")\n",
    "plt.plot(sol.t, sol.y[2], \"g.\", label=\"A31 (iARD-RPR)\")\n",
    "\n",
    "# adjust some plot settings.\n",
    "plt.xlabel(\"Time $t$ in s\")\n",
    "plt.ylim([0, 1])\n",
    "plt.grid()\n",
    "plt.legend()\n",
    "plt.tight_layout()\n",
    "plt.show()"
   ]
  },
  {
   "cell_type": "code",
   "execution_count": null,
   "metadata": {},
   "outputs": [],
   "source": []
  }
 ],
 "metadata": {
  "kernelspec": {
   "display_name": ".venv313",
   "language": "python",
   "name": "python3"
  },
  "language_info": {
   "codemirror_mode": {
    "name": "ipython",
    "version": 3
   },
   "file_extension": ".py",
   "mimetype": "text/x-python",
   "name": "python",
   "nbconvert_exporter": "python",
   "pygments_lexer": "ipython3",
   "version": "3.13.0"
  }
 },
 "nbformat": 4,
 "nbformat_minor": 4
}
