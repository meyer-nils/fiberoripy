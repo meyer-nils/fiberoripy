{
 "cells": [
  {
   "cell_type": "markdown",
   "metadata": {},
   "source": [
    "# Testing re-orientation in shearflow.\n",
    "\n",
    "The result should match Figure 2 in\n",
    "Favaloro, A.J., Tucker III, C.L.: \"Analysis of anisotropic diffusion models for fiber\n",
    "orientation\", Composites Part A, 126 (2019):\n",
    "DOI: 10.1016/j.compositesa.2019.105605"
   ]
  },
  {
   "cell_type": "code",
   "execution_count": null,
   "metadata": {},
   "outputs": [],
   "source": [
    "import matplotlib.pyplot as plt\n",
    "import numpy as np\n",
    "from scipy.integrate import solve_ivp\n",
    "\n",
    "from fiberoripy.closures import IBOF_closure\n",
    "from fiberoripy.orientation import (\n",
    "    ard_rsc_ode,\n",
    "    folgar_tucker_ode,\n",
    "    iard_ode,\n",
    "    integrate_ori_ode,\n",
    "    mrd_ode,\n",
    "    pard_ode,\n",
    ")"
   ]
  },
  {
   "cell_type": "code",
   "execution_count": null,
   "metadata": {},
   "outputs": [],
   "source": [
    "# geometric factor\n",
    "xi = 1.0\n",
    "\n",
    "# time steps\n",
    "t0, tf = 0, 80\n",
    "t = np.linspace(t0, tf, 500)\n",
    "\n",
    "# initial fiber orientation state\n",
    "A0 = 1.0 / 3.0 * np.eye(3)"
   ]
  },
  {
   "cell_type": "code",
   "execution_count": null,
   "metadata": {},
   "outputs": [],
   "source": [
    "# define a function that describes the (time-dependend) velocity gradient\n",
    "def L(t):\n",
    "    \"\"\"Velocity gradient.\"\"\"\n",
    "    return np.array([[0.0, 0.0, 1.0], [0.0, 0.0, 0.0], [0.0, 0.0, 0.0]])"
   ]
  },
  {
   "cell_type": "code",
   "execution_count": null,
   "metadata": {},
   "outputs": [],
   "source": [
    "kwargs_ft = {\"xi\": xi, \"Ci\": 0.0311}\n",
    "sol_ft = solve_ivp(\n",
    "    integrate_ori_ode,\n",
    "    (t0, tf),\n",
    "    A0.ravel(),\n",
    "    t_eval=t,\n",
    "    args=(L, IBOF_closure, folgar_tucker_ode, kwargs_ft),\n",
    ")\n",
    "\n",
    "kwargs_iard = {\"xi\": xi, \"Ci\": 0.0562, \"Cm\": 0.9977}\n",
    "sol_iard = solve_ivp(\n",
    "    integrate_ori_ode,\n",
    "    (t0, tf),\n",
    "    A0.ravel(),\n",
    "    t_eval=t,\n",
    "    args=(L, IBOF_closure, iard_ode, kwargs_iard),\n",
    ")\n",
    "\n",
    "kwargs_pard = {\"xi\": xi, \"Ci\": 0.0169, \"Omega\": 0.9868}\n",
    "sol_pard = solve_ivp(\n",
    "    integrate_ori_ode,\n",
    "    (t0, tf),\n",
    "    A0.ravel(),\n",
    "    t_eval=t,\n",
    "    args=(L, IBOF_closure, pard_ode, kwargs_pard),\n",
    ")\n",
    "\n",
    "kwargs_mrd = {\"xi\": xi, \"Ci\": 0.0198, \"D1\": 1.0, \"D2\": 0.4796, \"D3\": 0.0120}\n",
    "sol_mrd = solve_ivp(\n",
    "    integrate_ori_ode,\n",
    "    (t0, tf),\n",
    "    A0.ravel(),\n",
    "    t_eval=t,\n",
    "    args=(L, IBOF_closure, mrd_ode, kwargs_mrd),\n",
    ")\n",
    "\n",
    "kwargs_wpt = {\n",
    "    \"xi\": xi,\n",
    "    \"b1\": 0.0504 * (1.0 - 0.995),\n",
    "    \"kappa\": 1.0,\n",
    "    \"b2\": 0.0,\n",
    "    \"b3\": 0.0504 * 0.995,\n",
    "    \"b4\": 0.0,\n",
    "    \"b5\": 0.0,\n",
    "}\n",
    "sol_wpt = solve_ivp(\n",
    "    integrate_ori_ode,\n",
    "    (t0, tf),\n",
    "    A0.ravel(),\n",
    "    t_eval=t,\n",
    "    args=(L, IBOF_closure, ard_rsc_ode, kwargs_wpt),\n",
    ")\n",
    "\n",
    "kwargs_pt = {\n",
    "    \"xi\": xi,\n",
    "    \"b1\": 1.924e-4,\n",
    "    \"kappa\": 1.0,\n",
    "    \"b2\": 5.839e-3,\n",
    "    \"b3\": 0.04,\n",
    "    \"b4\": 1.168e-5,\n",
    "    \"b5\": 0.0,\n",
    "}\n",
    "sol_pt = solve_ivp(\n",
    "    integrate_ori_ode,\n",
    "    (t0, tf),\n",
    "    A0.ravel(),\n",
    "    t_eval=t,\n",
    "    args=(L, IBOF_closure, ard_rsc_ode, kwargs_pt),\n",
    ")"
   ]
  },
  {
   "cell_type": "code",
   "execution_count": null,
   "metadata": {},
   "outputs": [],
   "source": [
    "# plot components\n",
    "plt.plot(sol_ft.t, sol_ft.y[0], \"k-\", label=\"FT\")\n",
    "plt.plot(sol_iard.t, sol_iard.y[0], \"b-.\", label=\"iARD\")\n",
    "plt.plot(sol_pard.t, sol_pard.y[0], \"b--\", label=\"pARD\")\n",
    "plt.plot(sol_wpt.t, sol_wpt.y[0], \"b:\", label=\"WPT\")\n",
    "plt.plot(sol_mrd.t, sol_mrd.y[0], \"r:\", label=\"MRD\")\n",
    "plt.plot(sol_pt.t, sol_pt.y[0], \"r--\", label=\"PT\")\n",
    "\n",
    "# adjust some plot settings.\n",
    "plt.xlabel(\"Time $t$ in s\")\n",
    "plt.ylim([0.3, 0.9])\n",
    "plt.grid()\n",
    "plt.legend()\n",
    "plt.tight_layout()\n",
    "plt.show()"
   ]
  },
  {
   "cell_type": "code",
   "execution_count": null,
   "metadata": {},
   "outputs": [],
   "source": []
  }
 ],
 "metadata": {
  "kernelspec": {
   "display_name": "base",
   "language": "python",
   "name": "python3"
  },
  "language_info": {
   "codemirror_mode": {
    "name": "ipython",
    "version": 3
   },
   "file_extension": ".py",
   "mimetype": "text/x-python",
   "name": "python",
   "nbconvert_exporter": "python",
   "pygments_lexer": "ipython3",
   "version": "3.10.6"
  }
 },
 "nbformat": 4,
 "nbformat_minor": 4
}
