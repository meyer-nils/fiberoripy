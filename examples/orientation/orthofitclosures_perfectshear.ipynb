{
 "cells": [
  {
   "cell_type": "markdown",
   "metadata": {},
   "source": [
    "# Different orthotropic fitted closure approximations in simple shear flow.\n",
    "\n",
    "Model should reproduce Figure 6(a) in\n",
    "Du Hwan Chung and Tai Hun Kwon (2001),\n",
    "'Improved model of orthotropic closure approximation for flow induced fiber\n",
    "orientation', Polymer Composites, 22(5), 636-649, DOI: 10.1002/pc.10566"
   ]
  },
  {
   "cell_type": "code",
   "execution_count": null,
   "metadata": {},
   "outputs": [],
   "source": [
    "import matplotlib.pyplot as plt\n",
    "import numpy as np\n",
    "from scipy.integrate import solve_ivp\n",
    "from fiberoripy.orientation import folgar_tucker_ode, integrate_ori_ode\n",
    "from fiberoripy.closures import (\n",
    "    hybrid_closure,\n",
    "    orthotropic_fitted_closures,\n",
    "    IBOF_closure,\n",
    ")"
   ]
  },
  {
   "cell_type": "code",
   "execution_count": null,
   "metadata": {},
   "outputs": [],
   "source": [
    "# geometric factor\n",
    "xi = 1.0\n",
    "\n",
    "# phenomenological fiber-fiber interaction coefficient\n",
    "C_I = 0.01\n",
    "\n",
    "# time steps\n",
    "t = np.linspace(0, 30, 60)\n",
    "\n",
    "# initial fiber orientation state\n",
    "A0 = 1.0 / 3.0 * np.eye(3)"
   ]
  },
  {
   "cell_type": "code",
   "execution_count": null,
   "metadata": {},
   "outputs": [],
   "source": [
    "# define a function that describes the (time-dependend) velocity gradient\n",
    "def L(t):\n",
    "    \"\"\"Velocity gradient.\"\"\"\n",
    "    return np.array([[0.0, 1.0, 0.0], [0.0, 0.0, 0.0], [0.0, 0.0, 0.0]])"
   ]
  },
  {
   "cell_type": "code",
   "execution_count": null,
   "metadata": {},
   "outputs": [],
   "source": [
    "# compute solutions by integrating the ODEs\n",
    "kwargs_ft = {\"xi\": xi, \"Ci\": C_I}\n",
    "sol_ibof = solve_ivp(\n",
    "    integrate_ori_ode,\n",
    "    (t.min(), t.max()),\n",
    "    A0.ravel(),\n",
    "    t_eval=t,\n",
    "    args=(L, IBOF_closure, folgar_tucker_ode, kwargs_ft),\n",
    ")\n",
    "sol_ft = solve_ivp(\n",
    "    integrate_ori_ode,\n",
    "    (t.min(), t.max()),\n",
    "    A0.ravel(),\n",
    "    t_eval=t,\n",
    "    args=(L, hybrid_closure, folgar_tucker_ode, kwargs_ft),\n",
    ")\n",
    "sol_orf = solve_ivp(\n",
    "    integrate_ori_ode,\n",
    "    (t.min(), t.max()),\n",
    "    A0.ravel(),\n",
    "    t_eval=t,\n",
    "    args=(\n",
    "        L,\n",
    "        lambda a: orthotropic_fitted_closures(a, \"ORF\"),\n",
    "        folgar_tucker_ode,\n",
    "        kwargs_ft,\n",
    "    ),\n",
    ")\n",
    "sol_orw = solve_ivp(\n",
    "    integrate_ori_ode,\n",
    "    (t.min(), t.max()),\n",
    "    A0.ravel(),\n",
    "    t_eval=t,\n",
    "    args=(\n",
    "        L,\n",
    "        lambda a: orthotropic_fitted_closures(a, \"ORW\"),\n",
    "        folgar_tucker_ode,\n",
    "        kwargs_ft,\n",
    "    ),\n",
    ")\n",
    "sol_orw3 = solve_ivp(\n",
    "    integrate_ori_ode,\n",
    "    (t.min(), t.max()),\n",
    "    A0.ravel(),\n",
    "    t_eval=t,\n",
    "    args=(\n",
    "        L,\n",
    "        lambda a: orthotropic_fitted_closures(a, \"ORW3\"),\n",
    "        folgar_tucker_ode,\n",
    "        kwargs_ft,\n",
    "    ),\n",
    ")"
   ]
  },
  {
   "cell_type": "code",
   "execution_count": null,
   "metadata": {},
   "outputs": [],
   "source": [
    "# plot components\n",
    "plt.plot(t, sol_ibof.y[0], linestyle=\"-\", label=\"$a_{11}$ Hybrid\", color=\"b\")\n",
    "plt.plot(t, sol_orf.y[0], linestyle=\"-\", label=\"$a_{11}$ ORF\", color=\"r\")\n",
    "plt.plot(t, sol_orw.y[0], linestyle=\"-\", label=\"$a_{11}$ ORW\", color=\"g\")\n",
    "plt.plot(t, sol_orw3.y[0], linestyle=\"-.\", label=\"$a_{11}$ ORW3\", color=\"k\")\n",
    "\n",
    "plt.plot(t, sol_ibof.y[1], linestyle=\"--\", label=\"$a_{12}$ Hybrid\", color=\"b\")\n",
    "plt.plot(t, sol_orf.y[1], linestyle=\"--\", label=\"$a_{12}$ ORF\", color=\"r\")\n",
    "plt.plot(t, sol_orw.y[1], linestyle=\"--\", label=\"$a_{12}$ ORW\", color=\"g\")\n",
    "plt.plot(t, sol_orw3.y[1], linestyle=\"-.\", label=\"$a_{12}$ ORW3\", color=\"k\")\n",
    "\n",
    "# adjust some plot settings.\n",
    "plt.ylim = [-0.2, 1]\n",
    "plt.grid(which=\"major\", linestyle=\"-\")\n",
    "plt.minorticks_on()\n",
    "plt.grid(which=\"minor\", linestyle=\"--\", alpha=0.2)\n",
    "plt.xlabel(\"Time $t$ in $s$\")\n",
    "plt.ylabel(\"$a_{11}, a_{12}$\")\n",
    "plt.legend(loc=\"center right\")\n",
    "plt.title(r\"Simple shear flow, $\\xi = 1$, $C_I = 0.01$\")\n",
    "plt.show()"
   ]
  }
 ],
 "metadata": {
  "kernelspec": {
   "display_name": "base",
   "language": "python",
   "name": "python3"
  },
  "language_info": {
   "codemirror_mode": {
    "name": "ipython",
    "version": 3
   },
   "file_extension": ".py",
   "mimetype": "text/x-python",
   "name": "python",
   "nbconvert_exporter": "python",
   "pygments_lexer": "ipython3",
   "version": "3.10.6"
  }
 },
 "nbformat": 4,
 "nbformat_minor": 4
}
