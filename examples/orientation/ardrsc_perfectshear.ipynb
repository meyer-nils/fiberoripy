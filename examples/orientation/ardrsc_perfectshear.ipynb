{
 "cells": [
  {
   "cell_type": "markdown",
   "metadata": {},
   "source": [
    "# Testing re-orientation in shearflow\n",
    "\n",
    "The result should match Figure 5 in\n",
    "Phelps, Jay H, Tucker, Charles L: \"An anisotropic rotary diffusion\n",
    "model for fiber orientation in short- and long-fiber thermoplastics\",\n",
    "Journal of Non-Newtonian Fluid Mechanics, 156, 3, 2009:\n",
    "DOI: 10.1016/j.jnnfm.2008.08.002."
   ]
  },
  {
   "cell_type": "code",
   "execution_count": null,
   "metadata": {},
   "outputs": [],
   "source": [
    "import matplotlib.pyplot as plt\n",
    "import numpy as np\n",
    "from scipy.integrate import solve_ivp\n",
    "\n",
    "from fiberoripy.closures import IBOF_closure\n",
    "from fiberoripy.orientation import ard_rsc_ode, integrate_ori_ode"
   ]
  },
  {
   "cell_type": "code",
   "execution_count": null,
   "metadata": {},
   "outputs": [],
   "source": [
    "# geometric factor\n",
    "xi = 1.0\n",
    "\n",
    "# time steps\n",
    "t0, tf = 0, 4000\n",
    "t = np.linspace(t0, tf, 500)\n",
    "\n",
    "# initial fiber orientation state\n",
    "A0 = 1.0 / 3.0 * np.eye(3)"
   ]
  },
  {
   "cell_type": "code",
   "execution_count": null,
   "metadata": {},
   "outputs": [],
   "source": [
    "# define a function that describes the (time-dependend) velocity gradient\n",
    "def L(t):\n",
    "    \"\"\"Velocity gradient.\"\"\"\n",
    "    return np.array([[0.0, 0.0, 1.0], [0.0, 0.0, 0.0], [0.0, 0.0, 0.0]])"
   ]
  },
  {
   "cell_type": "code",
   "execution_count": null,
   "metadata": {},
   "outputs": [],
   "source": [
    "# compute solution by integrating the ODE\n",
    "kwargs = {\n",
    "    \"xi\": xi,\n",
    "    \"b1\": 1.924e-4,\n",
    "    \"kappa\": 1.0 / 30.0,\n",
    "    \"b2\": 5.839e-3,\n",
    "    \"b3\": 0.04,\n",
    "    \"b4\": 1.168e-5,\n",
    "    \"b5\": 0.0,\n",
    "}\n",
    "\n",
    "sol = solve_ivp(\n",
    "    integrate_ori_ode,\n",
    "    (t0, tf),\n",
    "    A0.ravel(),\n",
    "    t_eval=t,\n",
    "    args=(L, IBOF_closure, ard_rsc_ode, kwargs),\n",
    ")"
   ]
  },
  {
   "cell_type": "code",
   "execution_count": null,
   "metadata": {},
   "outputs": [],
   "source": [
    "# plot components\n",
    "plt.plot(sol.t, sol.y[0], \"-\", label=\"A11\")\n",
    "plt.plot(sol.t, sol.y[4], \"--\", label=\"A22\")\n",
    "plt.plot(sol.t, sol.y[8], \"-.\", label=\"A33\")\n",
    "plt.plot(sol.t, sol.y[2], \":\", label=\"A31\")\n",
    "\n",
    "# adjust some plot settings.\n",
    "plt.xlabel(\"Time $t$ in s\")\n",
    "plt.ylim([0, 1])\n",
    "plt.grid()\n",
    "plt.legend()\n",
    "plt.tight_layout()\n",
    "plt.show()"
   ]
  }
 ],
 "metadata": {
  "kernelspec": {
   "display_name": "base",
   "language": "python",
   "name": "python3"
  },
  "language_info": {
   "codemirror_mode": {
    "name": "ipython",
    "version": 3
   },
   "file_extension": ".py",
   "mimetype": "text/x-python",
   "name": "python",
   "nbconvert_exporter": "python",
   "pygments_lexer": "ipython3",
   "version": "3.10.6"
  }
 },
 "nbformat": 4,
 "nbformat_minor": 4
}
